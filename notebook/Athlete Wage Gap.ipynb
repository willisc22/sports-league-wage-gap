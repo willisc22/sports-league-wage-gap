{
 "cells": [
  {
   "cell_type": "code",
   "execution_count": 1,
   "id": "8984cdfe",
   "metadata": {},
   "outputs": [],
   "source": [
    "import pandas as pd\n",
    "import numpy as np\n",
    "import matplotlib.pyplot as plt\n",
    "import seaborn as sns"
   ]
  },
  {
   "cell_type": "code",
   "execution_count": 2,
   "id": "adcde277",
   "metadata": {},
   "outputs": [],
   "source": [
    "#import all NBA CSVs\n",
    "\n",
    "nba_overall = pd.read_csv('../data/NBAOVerall.csv')\n",
    "nba_c = pd.read_csv('../data/NBA_C.csv')\n",
    "nba_sg = pd.read_csv('../data/NBA_SG.csv')\n",
    "nba_pf = pd.read_csv('../data/NBA_PF.csv')\n",
    "nba_g = pd.read_csv('../data/NBA_G.csv')\n",
    "nba_f = pd.read_csv('../data/NBA_F.csv')\n",
    "nba_pg = pd.read_csv('../data/NBA_PG.csv')\n",
    "nba_sf = pd.read_csv('../data/NBA_SF.csv')"
   ]
  },
  {
   "cell_type": "markdown",
   "id": "e3c0e145",
   "metadata": {},
   "source": [
    "### exploratory analysis of NBA"
   ]
  },
  {
   "cell_type": "code",
   "execution_count": 53,
   "id": "cb44119d",
   "metadata": {},
   "outputs": [
    {
     "name": "stdout",
     "output_type": "stream",
     "text": [
      "<class 'pandas.core.frame.DataFrame'>\n",
      "RangeIndex: 100 entries, 0 to 99\n",
      "Data columns (total 11 columns):\n",
      " #   Column              Non-Null Count  Dtype \n",
      "---  ------              --------------  ----- \n",
      " 0   Rank                100 non-null    object\n",
      " 1   Player              100 non-null    object\n",
      " 2   Pos                 100 non-null    object\n",
      " 3   TeamCurrently With  100 non-null    object\n",
      " 4   AgeAt Signing       100 non-null    int64 \n",
      " 5   Start               100 non-null    int64 \n",
      " 6   End                 100 non-null    int64 \n",
      " 7   Yrs                 100 non-null    int64 \n",
      " 8   Value               100 non-null    object\n",
      " 9   AAV                 100 non-null    object\n",
      " 10  Team                100 non-null    object\n",
      "dtypes: int64(4), object(7)\n",
      "memory usage: 8.7+ KB\n"
     ]
    }
   ],
   "source": [
    "nba_overall.info()"
   ]
  },
  {
   "cell_type": "code",
   "execution_count": 47,
   "id": "bf08f139",
   "metadata": {
    "scrolled": true
   },
   "outputs": [
    {
     "data": {
      "text/html": [
       "<div>\n",
       "<style scoped>\n",
       "    .dataframe tbody tr th:only-of-type {\n",
       "        vertical-align: middle;\n",
       "    }\n",
       "\n",
       "    .dataframe tbody tr th {\n",
       "        vertical-align: top;\n",
       "    }\n",
       "\n",
       "    .dataframe thead th {\n",
       "        text-align: right;\n",
       "    }\n",
       "</style>\n",
       "<table border=\"1\" class=\"dataframe\">\n",
       "  <thead>\n",
       "    <tr style=\"text-align: right;\">\n",
       "      <th></th>\n",
       "      <th>Rank</th>\n",
       "      <th>Player</th>\n",
       "      <th>Pos</th>\n",
       "      <th>TeamCurrently With</th>\n",
       "      <th>AgeAt Signing</th>\n",
       "      <th>Start</th>\n",
       "      <th>End</th>\n",
       "      <th>Yrs</th>\n",
       "      <th>Value</th>\n",
       "      <th>AAV</th>\n",
       "      <th>Team</th>\n",
       "    </tr>\n",
       "  </thead>\n",
       "  <tbody>\n",
       "    <tr>\n",
       "      <th>0</th>\n",
       "      <td>1</td>\n",
       "      <td>Jaylen Brown</td>\n",
       "      <td>SF</td>\n",
       "      <td>BOS BOS</td>\n",
       "      <td>26</td>\n",
       "      <td>2024</td>\n",
       "      <td>2028</td>\n",
       "      <td>5</td>\n",
       "      <td>$286,230,000</td>\n",
       "      <td>$57,246,000</td>\n",
       "      <td>BOS</td>\n",
       "    </tr>\n",
       "    <tr>\n",
       "      <th>1</th>\n",
       "      <td>2</td>\n",
       "      <td>Nikola Jokic</td>\n",
       "      <td>C</td>\n",
       "      <td>DEN DEN</td>\n",
       "      <td>27</td>\n",
       "      <td>2023</td>\n",
       "      <td>2027</td>\n",
       "      <td>5</td>\n",
       "      <td>$276,122,630</td>\n",
       "      <td>$55,224,526</td>\n",
       "      <td>DEN</td>\n",
       "    </tr>\n",
       "    <tr>\n",
       "      <th>2</th>\n",
       "      <td>3</td>\n",
       "      <td>Bradley Beal</td>\n",
       "      <td>SG</td>\n",
       "      <td>PHX PHX</td>\n",
       "      <td>29</td>\n",
       "      <td>2022</td>\n",
       "      <td>2026</td>\n",
       "      <td>5</td>\n",
       "      <td>$251,019,650</td>\n",
       "      <td>$50,203,930</td>\n",
       "      <td>PHX</td>\n",
       "    </tr>\n",
       "    <tr>\n",
       "      <th>3</th>\n",
       "      <td>T4</td>\n",
       "      <td>Anthony Edwards</td>\n",
       "      <td>SG</td>\n",
       "      <td>MIN MIN</td>\n",
       "      <td>21</td>\n",
       "      <td>2024</td>\n",
       "      <td>2028</td>\n",
       "      <td>5</td>\n",
       "      <td>$245,340,000</td>\n",
       "      <td>$49,068,000</td>\n",
       "      <td>MIN</td>\n",
       "    </tr>\n",
       "    <tr>\n",
       "      <th>4</th>\n",
       "      <td>T4</td>\n",
       "      <td>Tyrese Haliburton</td>\n",
       "      <td>PG</td>\n",
       "      <td>IND IND</td>\n",
       "      <td>23</td>\n",
       "      <td>2024</td>\n",
       "      <td>2028</td>\n",
       "      <td>5</td>\n",
       "      <td>$245,340,000</td>\n",
       "      <td>$49,068,000</td>\n",
       "      <td>IND</td>\n",
       "    </tr>\n",
       "  </tbody>\n",
       "</table>\n",
       "</div>"
      ],
      "text/plain": [
       "  Rank             Player Pos TeamCurrently With  AgeAt Signing  Start   End  \\\n",
       "0    1       Jaylen Brown  SF            BOS BOS             26   2024  2028   \n",
       "1    2       Nikola Jokic   C            DEN DEN             27   2023  2027   \n",
       "2    3       Bradley Beal  SG            PHX PHX             29   2022  2026   \n",
       "3   T4    Anthony Edwards  SG            MIN MIN             21   2024  2028   \n",
       "4   T4  Tyrese Haliburton  PG            IND IND             23   2024  2028   \n",
       "\n",
       "   Yrs         Value          AAV Team  \n",
       "0    5  $286,230,000  $57,246,000  BOS  \n",
       "1    5  $276,122,630  $55,224,526  DEN  \n",
       "2    5  $251,019,650  $50,203,930  PHX  \n",
       "3    5  $245,340,000  $49,068,000  MIN  \n",
       "4    5  $245,340,000  $49,068,000  IND  "
      ]
     },
     "execution_count": 47,
     "metadata": {},
     "output_type": "execute_result"
    }
   ],
   "source": [
    "nba_overall.head()"
   ]
  },
  {
   "cell_type": "code",
   "execution_count": 37,
   "id": "4477e422",
   "metadata": {
    "scrolled": true
   },
   "outputs": [
    {
     "data": {
      "text/plain": [
       "Pos\n",
       "SG    26\n",
       "PG    24\n",
       "PF    20\n",
       "SF    16\n",
       "C     14\n",
       "Name: count, dtype: int64"
      ]
     },
     "execution_count": 37,
     "metadata": {},
     "output_type": "execute_result"
    }
   ],
   "source": [
    "nba_overall.value_counts('Pos')\n",
    "\n",
    "#shooting guards are the position with the most top 100 salaries for NBA"
   ]
  },
  {
   "cell_type": "code",
   "execution_count": 38,
   "id": "bd9d0373",
   "metadata": {
    "scrolled": true
   },
   "outputs": [
    {
     "data": {
      "text/plain": [
       "<Axes: xlabel='Pos', ylabel='Count'>"
      ]
     },
     "execution_count": 38,
     "metadata": {},
     "output_type": "execute_result"
    },
    {
     "data": {
      "image/png": "[encoded data removed]",
      "text/plain": [
       "<Figure size 640x480 with 1 Axes>"
      ]
     },
     "metadata": {},
     "output_type": "display_data"
    }
   ],
   "source": [
    "#histogram for nba_overall pos\n",
    "sns.histplot(data=nba_overall, x='Pos')"
   ]
  },
  {
   "cell_type": "code",
   "execution_count": 45,
   "id": "ddcb5ece",
   "metadata": {
    "scrolled": true
   },
   "outputs": [
    {
     "data": {
      "text/plain": [
       "Pos\n",
       "SG    56\n",
       "PG    44\n",
       "Name: count, dtype: int64"
      ]
     },
     "execution_count": 45,
     "metadata": {},
     "output_type": "execute_result"
    }
   ],
   "source": [
    "nba_g.value_counts('Pos')\n",
    "\n",
    "#shooting guards also have the highest number of top 100 salaries of all guards"
   ]
  },
  {
   "cell_type": "code",
   "execution_count": 52,
   "id": "1a760048",
   "metadata": {},
   "outputs": [
    {
     "ename": "TypeError",
     "evalue": "Could not convert $251,019,650 $245,340,000 $245,340,000 $221,088,000 $215,353,664 $215,159,700 $215,159,700 $215,159,700 $204,450,000 $197,230,450 $197,230,450 $197,230,450 $189,903,600 $179,299,750 $177,243,360 $176,265,466 $176,265,152 $163,000,300 $163,000,300 $158,253,000 $135,000,000 $134,400,000 $128,539,845 $128,000,000 $120,000,000 $120,000,000 $120,000,000 $114,070,207 $112,912,800 $107,000,000 $104,000,000 $100,000,000 $96,258,694 $94,000,000 $90,000,000 $82,500,000 $80,915,280 $80,000,000 $76,487,996 $75,000,000 $74,000,000 $73,000,000 $70,950,000 $70,000,000 $70,000,000 $68,640,000 $68,000,000 $65,000,000 $63,999,999 $62,297,040 $56,000,000 $53,827,872 $51,840,000 $50,000,000 $47,300,000 $46,870,000 $45,599,089 $45,000,000 $45,000,000 $44,363,603 $42,500,000 $41,000,000 $40,808,448 $40,008,489 $39,100,000 $36,980,000 $36,246,405 $36,000,000 $36,000,000 $34,627,688 $33,600,000 $33,075,000 $33,000,000 $32,951,083 $32,929,836 $32,000,000 $30,780,000 $30,145,123 $30,038,400 $30,000,000 $29,955,705 $29,936,173 $29,083,315 $29,000,000 $28,378,291 $28,271,607 $27,774,997 $27,340,903 $27,214,807 $26,145,000 $26,000,000 $25,430,250 $25,059,949 $24,088,326 $23,555,150 $23,172,779 $22,000,000 $21,898,509 $21,422,551 $21,000,000  to numeric",
     "output_type": "error",
     "traceback": [
      "\u001b[1;31m---------------------------------------------------------------------------\u001b[0m",
      "\u001b[1;31mValueError\u001b[0m                                Traceback (most recent call last)",
      "File \u001b[1;32m~\\anaconda3\\Lib\\site-packages\\pandas\\core\\nanops.py:1692\u001b[0m, in \u001b[0;36m_ensure_numeric\u001b[1;34m(x)\u001b[0m\n\u001b[0;32m   1691\u001b[0m \u001b[38;5;28;01mtry\u001b[39;00m:\n\u001b[1;32m-> 1692\u001b[0m     x \u001b[38;5;241m=\u001b[39m \u001b[38;5;28mfloat\u001b[39m(x)\n\u001b[0;32m   1693\u001b[0m \u001b[38;5;28;01mexcept\u001b[39;00m (\u001b[38;5;167;01mTypeError\u001b[39;00m, \u001b[38;5;167;01mValueError\u001b[39;00m):\n\u001b[0;32m   1694\u001b[0m     \u001b[38;5;66;03m# e.g. \"1+1j\" or \"foo\"\u001b[39;00m\n",
      "\u001b[1;31mValueError\u001b[0m: could not convert string to float: '$251,019,650 $245,340,000 $245,340,000 $221,088,000 $215,353,664 $215,159,700 $215,159,700 $215,159,700 $204,450,000 $197,230,450 $197,230,450 $197,230,450 $189,903,600 $179,299,750 $177,243,360 $176,265,466 $176,265,152 $163,000,300 $163,000,300 $158,253,000 $135,000,000 $134,400,000 $128,539,845 $128,000,000 $120,000,000 $120,000,000 $120,000,000 $114,070,207 $112,912,800 $107,000,000 $104,000,000 $100,000,000 $96,258,694 $94,000,000 $90,000,000 $82,500,000 $80,915,280 $80,000,000 $76,487,996 $75,000,000 $74,000,000 $73,000,000 $70,950,000 $70,000,000 $70,000,000 $68,640,000 $68,000,000 $65,000,000 $63,999,999 $62,297,040 $56,000,000 $53,827,872 $51,840,000 $50,000,000 $47,300,000 $46,870,000 $45,599,089 $45,000,000 $45,000,000 $44,363,603 $42,500,000 $41,000,000 $40,808,448 $40,008,489 $39,100,000 $36,980,000 $36,246,405 $36,000,000 $36,000,000 $34,627,688 $33,600,000 $33,075,000 $33,000,000 $32,951,083 $32,929,836 $32,000,000 $30,780,000 $30,145,123 $30,038,400 $30,000,000 $29,955,705 $29,936,173 $29,083,315 $29,000,000 $28,378,291 $28,271,607 $27,774,997 $27,340,903 $27,214,807 $26,145,000 $26,000,000 $25,430,250 $25,059,949 $24,088,326 $23,555,150 $23,172,779 $22,000,000 $21,898,509 $21,422,551 $21,000,000 '",
      "\nDuring handling of the above exception, another exception occurred:\n",
      "\u001b[1;31mValueError\u001b[0m                                Traceback (most recent call last)",
      "File \u001b[1;32m~\\anaconda3\\Lib\\site-packages\\pandas\\core\\nanops.py:1696\u001b[0m, in \u001b[0;36m_ensure_numeric\u001b[1;34m(x)\u001b[0m\n\u001b[0;32m   1695\u001b[0m \u001b[38;5;28;01mtry\u001b[39;00m:\n\u001b[1;32m-> 1696\u001b[0m     x \u001b[38;5;241m=\u001b[39m \u001b[38;5;28mcomplex\u001b[39m(x)\n\u001b[0;32m   1697\u001b[0m \u001b[38;5;28;01mexcept\u001b[39;00m \u001b[38;5;167;01mValueError\u001b[39;00m \u001b[38;5;28;01mas\u001b[39;00m err:\n\u001b[0;32m   1698\u001b[0m     \u001b[38;5;66;03m# e.g. \"foo\"\u001b[39;00m\n",
      "\u001b[1;31mValueError\u001b[0m: complex() arg is a malformed string",
      "\nThe above exception was the direct cause of the following exception:\n",
      "\u001b[1;31mTypeError\u001b[0m                                 Traceback (most recent call last)",
      "Cell \u001b[1;32mIn[52], line 1\u001b[0m\n\u001b[1;32m----> 1\u001b[0m nba_g[\u001b[38;5;124m'\u001b[39m\u001b[38;5;124mValue\u001b[39m\u001b[38;5;124m'\u001b[39m]\u001b[38;5;241m.\u001b[39maggregate([\u001b[38;5;124m'\u001b[39m\u001b[38;5;124mmean\u001b[39m\u001b[38;5;124m'\u001b[39m,\u001b[38;5;124m'\u001b[39m\u001b[38;5;124mmax\u001b[39m\u001b[38;5;124m'\u001b[39m,\u001b[38;5;124m'\u001b[39m\u001b[38;5;124mmin\u001b[39m\u001b[38;5;124m'\u001b[39m])\n",
      "File \u001b[1;32m~\\anaconda3\\Lib\\site-packages\\pandas\\core\\series.py:4463\u001b[0m, in \u001b[0;36mSeries.aggregate\u001b[1;34m(self, func, axis, *args, **kwargs)\u001b[0m\n\u001b[0;32m   4460\u001b[0m     func \u001b[38;5;241m=\u001b[39m \u001b[38;5;28mdict\u001b[39m(kwargs\u001b[38;5;241m.\u001b[39mitems())\n\u001b[0;32m   4462\u001b[0m op \u001b[38;5;241m=\u001b[39m SeriesApply(\u001b[38;5;28mself\u001b[39m, func, convert_dtype\u001b[38;5;241m=\u001b[39m\u001b[38;5;28;01mFalse\u001b[39;00m, args\u001b[38;5;241m=\u001b[39margs, kwargs\u001b[38;5;241m=\u001b[39mkwargs)\n\u001b[1;32m-> 4463\u001b[0m result \u001b[38;5;241m=\u001b[39m op\u001b[38;5;241m.\u001b[39magg()\n\u001b[0;32m   4464\u001b[0m \u001b[38;5;28;01mreturn\u001b[39;00m result\n",
      "File \u001b[1;32m~\\anaconda3\\Lib\\site-packages\\pandas\\core\\apply.py:1028\u001b[0m, in \u001b[0;36mSeriesApply.agg\u001b[1;34m(self)\u001b[0m\n\u001b[0;32m   1027\u001b[0m \u001b[38;5;28;01mdef\u001b[39;00m \u001b[38;5;21magg\u001b[39m(\u001b[38;5;28mself\u001b[39m):\n\u001b[1;32m-> 1028\u001b[0m     result \u001b[38;5;241m=\u001b[39m \u001b[38;5;28msuper\u001b[39m()\u001b[38;5;241m.\u001b[39magg()\n\u001b[0;32m   1029\u001b[0m     \u001b[38;5;28;01mif\u001b[39;00m result \u001b[38;5;129;01mis\u001b[39;00m \u001b[38;5;28;01mNone\u001b[39;00m:\n\u001b[0;32m   1030\u001b[0m         f \u001b[38;5;241m=\u001b[39m \u001b[38;5;28mself\u001b[39m\u001b[38;5;241m.\u001b[39mf\n",
      "File \u001b[1;32m~\\anaconda3\\Lib\\site-packages\\pandas\\core\\apply.py:166\u001b[0m, in \u001b[0;36mApply.agg\u001b[1;34m(self)\u001b[0m\n\u001b[0;32m    163\u001b[0m     \u001b[38;5;28;01mreturn\u001b[39;00m \u001b[38;5;28mself\u001b[39m\u001b[38;5;241m.\u001b[39magg_dict_like()\n\u001b[0;32m    164\u001b[0m \u001b[38;5;28;01melif\u001b[39;00m is_list_like(arg):\n\u001b[0;32m    165\u001b[0m     \u001b[38;5;66;03m# we require a list, but not a 'str'\u001b[39;00m\n\u001b[1;32m--> 166\u001b[0m     \u001b[38;5;28;01mreturn\u001b[39;00m \u001b[38;5;28mself\u001b[39m\u001b[38;5;241m.\u001b[39magg_list_like()\n\u001b[0;32m    168\u001b[0m \u001b[38;5;28;01mif\u001b[39;00m \u001b[38;5;28mcallable\u001b[39m(arg):\n\u001b[0;32m    169\u001b[0m     f \u001b[38;5;241m=\u001b[39m com\u001b[38;5;241m.\u001b[39mget_cython_func(arg)\n",
      "File \u001b[1;32m~\\anaconda3\\Lib\\site-packages\\pandas\\core\\apply.py:335\u001b[0m, in \u001b[0;36mApply.agg_list_like\u001b[1;34m(self)\u001b[0m\n\u001b[0;32m    333\u001b[0m colg \u001b[38;5;241m=\u001b[39m obj\u001b[38;5;241m.\u001b[39m_gotitem(selected_obj\u001b[38;5;241m.\u001b[39mname, ndim\u001b[38;5;241m=\u001b[39m\u001b[38;5;241m1\u001b[39m, subset\u001b[38;5;241m=\u001b[39mselected_obj)\n\u001b[0;32m    334\u001b[0m \u001b[38;5;28;01mif\u001b[39;00m \u001b[38;5;28misinstance\u001b[39m(colg, (ABCSeries, ABCDataFrame)):\n\u001b[1;32m--> 335\u001b[0m     new_res \u001b[38;5;241m=\u001b[39m colg\u001b[38;5;241m.\u001b[39maggregate(\n\u001b[0;32m    336\u001b[0m         a, \u001b[38;5;28mself\u001b[39m\u001b[38;5;241m.\u001b[39maxis, \u001b[38;5;241m*\u001b[39m\u001b[38;5;28mself\u001b[39m\u001b[38;5;241m.\u001b[39margs, \u001b[38;5;241m*\u001b[39m\u001b[38;5;241m*\u001b[39m\u001b[38;5;28mself\u001b[39m\u001b[38;5;241m.\u001b[39mkwargs\n\u001b[0;32m    337\u001b[0m     )\n\u001b[0;32m    338\u001b[0m \u001b[38;5;28;01melse\u001b[39;00m:\n\u001b[0;32m    339\u001b[0m     new_res \u001b[38;5;241m=\u001b[39m colg\u001b[38;5;241m.\u001b[39maggregate(a, \u001b[38;5;241m*\u001b[39m\u001b[38;5;28mself\u001b[39m\u001b[38;5;241m.\u001b[39margs, \u001b[38;5;241m*\u001b[39m\u001b[38;5;241m*\u001b[39m\u001b[38;5;28mself\u001b[39m\u001b[38;5;241m.\u001b[39mkwargs)\n",
      "File \u001b[1;32m~\\anaconda3\\Lib\\site-packages\\pandas\\core\\series.py:4463\u001b[0m, in \u001b[0;36mSeries.aggregate\u001b[1;34m(self, func, axis, *args, **kwargs)\u001b[0m\n\u001b[0;32m   4460\u001b[0m     func \u001b[38;5;241m=\u001b[39m \u001b[38;5;28mdict\u001b[39m(kwargs\u001b[38;5;241m.\u001b[39mitems())\n\u001b[0;32m   4462\u001b[0m op \u001b[38;5;241m=\u001b[39m SeriesApply(\u001b[38;5;28mself\u001b[39m, func, convert_dtype\u001b[38;5;241m=\u001b[39m\u001b[38;5;28;01mFalse\u001b[39;00m, args\u001b[38;5;241m=\u001b[39margs, kwargs\u001b[38;5;241m=\u001b[39mkwargs)\n\u001b[1;32m-> 4463\u001b[0m result \u001b[38;5;241m=\u001b[39m op\u001b[38;5;241m.\u001b[39magg()\n\u001b[0;32m   4464\u001b[0m \u001b[38;5;28;01mreturn\u001b[39;00m result\n",
      "File \u001b[1;32m~\\anaconda3\\Lib\\site-packages\\pandas\\core\\apply.py:1028\u001b[0m, in \u001b[0;36mSeriesApply.agg\u001b[1;34m(self)\u001b[0m\n\u001b[0;32m   1027\u001b[0m \u001b[38;5;28;01mdef\u001b[39;00m \u001b[38;5;21magg\u001b[39m(\u001b[38;5;28mself\u001b[39m):\n\u001b[1;32m-> 1028\u001b[0m     result \u001b[38;5;241m=\u001b[39m \u001b[38;5;28msuper\u001b[39m()\u001b[38;5;241m.\u001b[39magg()\n\u001b[0;32m   1029\u001b[0m     \u001b[38;5;28;01mif\u001b[39;00m result \u001b[38;5;129;01mis\u001b[39;00m \u001b[38;5;28;01mNone\u001b[39;00m:\n\u001b[0;32m   1030\u001b[0m         f \u001b[38;5;241m=\u001b[39m \u001b[38;5;28mself\u001b[39m\u001b[38;5;241m.\u001b[39mf\n",
      "File \u001b[1;32m~\\anaconda3\\Lib\\site-packages\\pandas\\core\\apply.py:160\u001b[0m, in \u001b[0;36mApply.agg\u001b[1;34m(self)\u001b[0m\n\u001b[0;32m    157\u001b[0m kwargs \u001b[38;5;241m=\u001b[39m \u001b[38;5;28mself\u001b[39m\u001b[38;5;241m.\u001b[39mkwargs\n\u001b[0;32m    159\u001b[0m \u001b[38;5;28;01mif\u001b[39;00m \u001b[38;5;28misinstance\u001b[39m(arg, \u001b[38;5;28mstr\u001b[39m):\n\u001b[1;32m--> 160\u001b[0m     \u001b[38;5;28;01mreturn\u001b[39;00m \u001b[38;5;28mself\u001b[39m\u001b[38;5;241m.\u001b[39mapply_str()\n\u001b[0;32m    162\u001b[0m \u001b[38;5;28;01mif\u001b[39;00m is_dict_like(arg):\n\u001b[0;32m    163\u001b[0m     \u001b[38;5;28;01mreturn\u001b[39;00m \u001b[38;5;28mself\u001b[39m\u001b[38;5;241m.\u001b[39magg_dict_like()\n",
      "File \u001b[1;32m~\\anaconda3\\Lib\\site-packages\\pandas\\core\\apply.py:496\u001b[0m, in \u001b[0;36mApply.apply_str\u001b[1;34m(self)\u001b[0m\n\u001b[0;32m    494\u001b[0m     \u001b[38;5;28;01mif\u001b[39;00m \u001b[38;5;124m\"\u001b[39m\u001b[38;5;124maxis\u001b[39m\u001b[38;5;124m\"\u001b[39m \u001b[38;5;129;01min\u001b[39;00m arg_names:\n\u001b[0;32m    495\u001b[0m         \u001b[38;5;28mself\u001b[39m\u001b[38;5;241m.\u001b[39mkwargs[\u001b[38;5;124m\"\u001b[39m\u001b[38;5;124maxis\u001b[39m\u001b[38;5;124m\"\u001b[39m] \u001b[38;5;241m=\u001b[39m \u001b[38;5;28mself\u001b[39m\u001b[38;5;241m.\u001b[39maxis\n\u001b[1;32m--> 496\u001b[0m \u001b[38;5;28;01mreturn\u001b[39;00m \u001b[38;5;28mself\u001b[39m\u001b[38;5;241m.\u001b[39m_try_aggregate_string_function(obj, f, \u001b[38;5;241m*\u001b[39m\u001b[38;5;28mself\u001b[39m\u001b[38;5;241m.\u001b[39margs, \u001b[38;5;241m*\u001b[39m\u001b[38;5;241m*\u001b[39m\u001b[38;5;28mself\u001b[39m\u001b[38;5;241m.\u001b[39mkwargs)\n",
      "File \u001b[1;32m~\\anaconda3\\Lib\\site-packages\\pandas\\core\\apply.py:565\u001b[0m, in \u001b[0;36mApply._try_aggregate_string_function\u001b[1;34m(self, obj, arg, *args, **kwargs)\u001b[0m\n\u001b[0;32m    563\u001b[0m \u001b[38;5;28;01mif\u001b[39;00m f \u001b[38;5;129;01mis\u001b[39;00m \u001b[38;5;129;01mnot\u001b[39;00m \u001b[38;5;28;01mNone\u001b[39;00m:\n\u001b[0;32m    564\u001b[0m     \u001b[38;5;28;01mif\u001b[39;00m \u001b[38;5;28mcallable\u001b[39m(f):\n\u001b[1;32m--> 565\u001b[0m         \u001b[38;5;28;01mreturn\u001b[39;00m f(\u001b[38;5;241m*\u001b[39margs, \u001b[38;5;241m*\u001b[39m\u001b[38;5;241m*\u001b[39mkwargs)\n\u001b[0;32m    567\u001b[0m     \u001b[38;5;66;03m# people may try to aggregate on a non-callable attribute\u001b[39;00m\n\u001b[0;32m    568\u001b[0m     \u001b[38;5;66;03m# but don't let them think they can pass args to it\u001b[39;00m\n\u001b[0;32m    569\u001b[0m     \u001b[38;5;28;01massert\u001b[39;00m \u001b[38;5;28mlen\u001b[39m(args) \u001b[38;5;241m==\u001b[39m \u001b[38;5;241m0\u001b[39m\n",
      "File \u001b[1;32m~\\anaconda3\\Lib\\site-packages\\pandas\\core\\generic.py:11556\u001b[0m, in \u001b[0;36mNDFrame._add_numeric_operations.<locals>.mean\u001b[1;34m(self, axis, skipna, numeric_only, **kwargs)\u001b[0m\n\u001b[0;32m  11539\u001b[0m \u001b[38;5;129m@doc\u001b[39m(\n\u001b[0;32m  11540\u001b[0m     _num_doc,\n\u001b[0;32m  11541\u001b[0m     desc\u001b[38;5;241m=\u001b[39m\u001b[38;5;124m\"\u001b[39m\u001b[38;5;124mReturn the mean of the values over the requested axis.\u001b[39m\u001b[38;5;124m\"\u001b[39m,\n\u001b[1;32m   (...)\u001b[0m\n\u001b[0;32m  11554\u001b[0m     \u001b[38;5;241m*\u001b[39m\u001b[38;5;241m*\u001b[39mkwargs,\n\u001b[0;32m  11555\u001b[0m ):\n\u001b[1;32m> 11556\u001b[0m     \u001b[38;5;28;01mreturn\u001b[39;00m NDFrame\u001b[38;5;241m.\u001b[39mmean(\u001b[38;5;28mself\u001b[39m, axis, skipna, numeric_only, \u001b[38;5;241m*\u001b[39m\u001b[38;5;241m*\u001b[39mkwargs)\n",
      "File \u001b[1;32m~\\anaconda3\\Lib\\site-packages\\pandas\\core\\generic.py:11201\u001b[0m, in \u001b[0;36mNDFrame.mean\u001b[1;34m(self, axis, skipna, numeric_only, **kwargs)\u001b[0m\n\u001b[0;32m  11194\u001b[0m \u001b[38;5;28;01mdef\u001b[39;00m \u001b[38;5;21mmean\u001b[39m(\n\u001b[0;32m  11195\u001b[0m     \u001b[38;5;28mself\u001b[39m,\n\u001b[0;32m  11196\u001b[0m     axis: Axis \u001b[38;5;241m|\u001b[39m \u001b[38;5;28;01mNone\u001b[39;00m \u001b[38;5;241m=\u001b[39m \u001b[38;5;241m0\u001b[39m,\n\u001b[1;32m   (...)\u001b[0m\n\u001b[0;32m  11199\u001b[0m     \u001b[38;5;241m*\u001b[39m\u001b[38;5;241m*\u001b[39mkwargs,\n\u001b[0;32m  11200\u001b[0m ) \u001b[38;5;241m-\u001b[39m\u001b[38;5;241m>\u001b[39m Series \u001b[38;5;241m|\u001b[39m \u001b[38;5;28mfloat\u001b[39m:\n\u001b[1;32m> 11201\u001b[0m     \u001b[38;5;28;01mreturn\u001b[39;00m \u001b[38;5;28mself\u001b[39m\u001b[38;5;241m.\u001b[39m_stat_function(\n\u001b[0;32m  11202\u001b[0m         \u001b[38;5;124m\"\u001b[39m\u001b[38;5;124mmean\u001b[39m\u001b[38;5;124m\"\u001b[39m, nanops\u001b[38;5;241m.\u001b[39mnanmean, axis, skipna, numeric_only, \u001b[38;5;241m*\u001b[39m\u001b[38;5;241m*\u001b[39mkwargs\n\u001b[0;32m  11203\u001b[0m     )\n",
      "File \u001b[1;32m~\\anaconda3\\Lib\\site-packages\\pandas\\core\\generic.py:11158\u001b[0m, in \u001b[0;36mNDFrame._stat_function\u001b[1;34m(self, name, func, axis, skipna, numeric_only, **kwargs)\u001b[0m\n\u001b[0;32m  11154\u001b[0m     nv\u001b[38;5;241m.\u001b[39mvalidate_stat_func((), kwargs, fname\u001b[38;5;241m=\u001b[39mname)\n\u001b[0;32m  11156\u001b[0m validate_bool_kwarg(skipna, \u001b[38;5;124m\"\u001b[39m\u001b[38;5;124mskipna\u001b[39m\u001b[38;5;124m\"\u001b[39m, none_allowed\u001b[38;5;241m=\u001b[39m\u001b[38;5;28;01mFalse\u001b[39;00m)\n\u001b[1;32m> 11158\u001b[0m \u001b[38;5;28;01mreturn\u001b[39;00m \u001b[38;5;28mself\u001b[39m\u001b[38;5;241m.\u001b[39m_reduce(\n\u001b[0;32m  11159\u001b[0m     func, name\u001b[38;5;241m=\u001b[39mname, axis\u001b[38;5;241m=\u001b[39maxis, skipna\u001b[38;5;241m=\u001b[39mskipna, numeric_only\u001b[38;5;241m=\u001b[39mnumeric_only\n\u001b[0;32m  11160\u001b[0m )\n",
      "File \u001b[1;32m~\\anaconda3\\Lib\\site-packages\\pandas\\core\\series.py:4670\u001b[0m, in \u001b[0;36mSeries._reduce\u001b[1;34m(self, op, name, axis, skipna, numeric_only, filter_type, **kwds)\u001b[0m\n\u001b[0;32m   4665\u001b[0m     \u001b[38;5;28;01mraise\u001b[39;00m \u001b[38;5;167;01mTypeError\u001b[39;00m(\n\u001b[0;32m   4666\u001b[0m         \u001b[38;5;124mf\u001b[39m\u001b[38;5;124m\"\u001b[39m\u001b[38;5;124mSeries.\u001b[39m\u001b[38;5;132;01m{\u001b[39;00mname\u001b[38;5;132;01m}\u001b[39;00m\u001b[38;5;124m does not allow \u001b[39m\u001b[38;5;132;01m{\u001b[39;00mkwd_name\u001b[38;5;132;01m}\u001b[39;00m\u001b[38;5;124m=\u001b[39m\u001b[38;5;132;01m{\u001b[39;00mnumeric_only\u001b[38;5;132;01m}\u001b[39;00m\u001b[38;5;124m \u001b[39m\u001b[38;5;124m\"\u001b[39m\n\u001b[0;32m   4667\u001b[0m         \u001b[38;5;124m\"\u001b[39m\u001b[38;5;124mwith non-numeric dtypes.\u001b[39m\u001b[38;5;124m\"\u001b[39m\n\u001b[0;32m   4668\u001b[0m     )\n\u001b[0;32m   4669\u001b[0m \u001b[38;5;28;01mwith\u001b[39;00m np\u001b[38;5;241m.\u001b[39merrstate(\u001b[38;5;28mall\u001b[39m\u001b[38;5;241m=\u001b[39m\u001b[38;5;124m\"\u001b[39m\u001b[38;5;124mignore\u001b[39m\u001b[38;5;124m\"\u001b[39m):\n\u001b[1;32m-> 4670\u001b[0m     \u001b[38;5;28;01mreturn\u001b[39;00m op(delegate, skipna\u001b[38;5;241m=\u001b[39mskipna, \u001b[38;5;241m*\u001b[39m\u001b[38;5;241m*\u001b[39mkwds)\n",
      "File \u001b[1;32m~\\anaconda3\\Lib\\site-packages\\pandas\\core\\nanops.py:96\u001b[0m, in \u001b[0;36mdisallow.__call__.<locals>._f\u001b[1;34m(*args, **kwargs)\u001b[0m\n\u001b[0;32m     94\u001b[0m \u001b[38;5;28;01mtry\u001b[39;00m:\n\u001b[0;32m     95\u001b[0m     \u001b[38;5;28;01mwith\u001b[39;00m np\u001b[38;5;241m.\u001b[39merrstate(invalid\u001b[38;5;241m=\u001b[39m\u001b[38;5;124m\"\u001b[39m\u001b[38;5;124mignore\u001b[39m\u001b[38;5;124m\"\u001b[39m):\n\u001b[1;32m---> 96\u001b[0m         \u001b[38;5;28;01mreturn\u001b[39;00m f(\u001b[38;5;241m*\u001b[39margs, \u001b[38;5;241m*\u001b[39m\u001b[38;5;241m*\u001b[39mkwargs)\n\u001b[0;32m     97\u001b[0m \u001b[38;5;28;01mexcept\u001b[39;00m \u001b[38;5;167;01mValueError\u001b[39;00m \u001b[38;5;28;01mas\u001b[39;00m e:\n\u001b[0;32m     98\u001b[0m     \u001b[38;5;66;03m# we want to transform an object array\u001b[39;00m\n\u001b[0;32m     99\u001b[0m     \u001b[38;5;66;03m# ValueError message to the more typical TypeError\u001b[39;00m\n\u001b[0;32m    100\u001b[0m     \u001b[38;5;66;03m# e.g. this is normally a disallowed function on\u001b[39;00m\n\u001b[0;32m    101\u001b[0m     \u001b[38;5;66;03m# object arrays that contain strings\u001b[39;00m\n\u001b[0;32m    102\u001b[0m     \u001b[38;5;28;01mif\u001b[39;00m is_object_dtype(args[\u001b[38;5;241m0\u001b[39m]):\n",
      "File \u001b[1;32m~\\anaconda3\\Lib\\site-packages\\pandas\\core\\nanops.py:158\u001b[0m, in \u001b[0;36mbottleneck_switch.__call__.<locals>.f\u001b[1;34m(values, axis, skipna, **kwds)\u001b[0m\n\u001b[0;32m    156\u001b[0m         result \u001b[38;5;241m=\u001b[39m alt(values, axis\u001b[38;5;241m=\u001b[39maxis, skipna\u001b[38;5;241m=\u001b[39mskipna, \u001b[38;5;241m*\u001b[39m\u001b[38;5;241m*\u001b[39mkwds)\n\u001b[0;32m    157\u001b[0m \u001b[38;5;28;01melse\u001b[39;00m:\n\u001b[1;32m--> 158\u001b[0m     result \u001b[38;5;241m=\u001b[39m alt(values, axis\u001b[38;5;241m=\u001b[39maxis, skipna\u001b[38;5;241m=\u001b[39mskipna, \u001b[38;5;241m*\u001b[39m\u001b[38;5;241m*\u001b[39mkwds)\n\u001b[0;32m    160\u001b[0m \u001b[38;5;28;01mreturn\u001b[39;00m result\n",
      "File \u001b[1;32m~\\anaconda3\\Lib\\site-packages\\pandas\\core\\nanops.py:421\u001b[0m, in \u001b[0;36m_datetimelike_compat.<locals>.new_func\u001b[1;34m(values, axis, skipna, mask, **kwargs)\u001b[0m\n\u001b[0;32m    418\u001b[0m \u001b[38;5;28;01mif\u001b[39;00m datetimelike \u001b[38;5;129;01mand\u001b[39;00m mask \u001b[38;5;129;01mis\u001b[39;00m \u001b[38;5;28;01mNone\u001b[39;00m:\n\u001b[0;32m    419\u001b[0m     mask \u001b[38;5;241m=\u001b[39m isna(values)\n\u001b[1;32m--> 421\u001b[0m result \u001b[38;5;241m=\u001b[39m func(values, axis\u001b[38;5;241m=\u001b[39maxis, skipna\u001b[38;5;241m=\u001b[39mskipna, mask\u001b[38;5;241m=\u001b[39mmask, \u001b[38;5;241m*\u001b[39m\u001b[38;5;241m*\u001b[39mkwargs)\n\u001b[0;32m    423\u001b[0m \u001b[38;5;28;01mif\u001b[39;00m datetimelike:\n\u001b[0;32m    424\u001b[0m     result \u001b[38;5;241m=\u001b[39m _wrap_results(result, orig_values\u001b[38;5;241m.\u001b[39mdtype, fill_value\u001b[38;5;241m=\u001b[39miNaT)\n",
      "File \u001b[1;32m~\\anaconda3\\Lib\\site-packages\\pandas\\core\\nanops.py:727\u001b[0m, in \u001b[0;36mnanmean\u001b[1;34m(values, axis, skipna, mask)\u001b[0m\n\u001b[0;32m    724\u001b[0m     dtype_count \u001b[38;5;241m=\u001b[39m dtype\n\u001b[0;32m    726\u001b[0m count \u001b[38;5;241m=\u001b[39m _get_counts(values\u001b[38;5;241m.\u001b[39mshape, mask, axis, dtype\u001b[38;5;241m=\u001b[39mdtype_count)\n\u001b[1;32m--> 727\u001b[0m the_sum \u001b[38;5;241m=\u001b[39m _ensure_numeric(values\u001b[38;5;241m.\u001b[39msum(axis, dtype\u001b[38;5;241m=\u001b[39mdtype_sum))\n\u001b[0;32m    729\u001b[0m \u001b[38;5;28;01mif\u001b[39;00m axis \u001b[38;5;129;01mis\u001b[39;00m \u001b[38;5;129;01mnot\u001b[39;00m \u001b[38;5;28;01mNone\u001b[39;00m \u001b[38;5;129;01mand\u001b[39;00m \u001b[38;5;28mgetattr\u001b[39m(the_sum, \u001b[38;5;124m\"\u001b[39m\u001b[38;5;124mndim\u001b[39m\u001b[38;5;124m\"\u001b[39m, \u001b[38;5;28;01mFalse\u001b[39;00m):\n\u001b[0;32m    730\u001b[0m     count \u001b[38;5;241m=\u001b[39m cast(np\u001b[38;5;241m.\u001b[39mndarray, count)\n",
      "File \u001b[1;32m~\\anaconda3\\Lib\\site-packages\\pandas\\core\\nanops.py:1699\u001b[0m, in \u001b[0;36m_ensure_numeric\u001b[1;34m(x)\u001b[0m\n\u001b[0;32m   1696\u001b[0m             x \u001b[38;5;241m=\u001b[39m \u001b[38;5;28mcomplex\u001b[39m(x)\n\u001b[0;32m   1697\u001b[0m         \u001b[38;5;28;01mexcept\u001b[39;00m \u001b[38;5;167;01mValueError\u001b[39;00m \u001b[38;5;28;01mas\u001b[39;00m err:\n\u001b[0;32m   1698\u001b[0m             \u001b[38;5;66;03m# e.g. \"foo\"\u001b[39;00m\n\u001b[1;32m-> 1699\u001b[0m             \u001b[38;5;28;01mraise\u001b[39;00m \u001b[38;5;167;01mTypeError\u001b[39;00m(\u001b[38;5;124mf\u001b[39m\u001b[38;5;124m\"\u001b[39m\u001b[38;5;124mCould not convert \u001b[39m\u001b[38;5;132;01m{\u001b[39;00mx\u001b[38;5;132;01m}\u001b[39;00m\u001b[38;5;124m to numeric\u001b[39m\u001b[38;5;124m\"\u001b[39m) \u001b[38;5;28;01mfrom\u001b[39;00m \u001b[38;5;21;01merr\u001b[39;00m\n\u001b[0;32m   1700\u001b[0m \u001b[38;5;28;01mreturn\u001b[39;00m x\n",
      "\u001b[1;31mTypeError\u001b[0m: Could not convert $251,019,650 $245,340,000 $245,340,000 $221,088,000 $215,353,664 $215,159,700 $215,159,700 $215,159,700 $204,450,000 $197,230,450 $197,230,450 $197,230,450 $189,903,600 $179,299,750 $177,243,360 $176,265,466 $176,265,152 $163,000,300 $163,000,300 $158,253,000 $135,000,000 $134,400,000 $128,539,845 $128,000,000 $120,000,000 $120,000,000 $120,000,000 $114,070,207 $112,912,800 $107,000,000 $104,000,000 $100,000,000 $96,258,694 $94,000,000 $90,000,000 $82,500,000 $80,915,280 $80,000,000 $76,487,996 $75,000,000 $74,000,000 $73,000,000 $70,950,000 $70,000,000 $70,000,000 $68,640,000 $68,000,000 $65,000,000 $63,999,999 $62,297,040 $56,000,000 $53,827,872 $51,840,000 $50,000,000 $47,300,000 $46,870,000 $45,599,089 $45,000,000 $45,000,000 $44,363,603 $42,500,000 $41,000,000 $40,808,448 $40,008,489 $39,100,000 $36,980,000 $36,246,405 $36,000,000 $36,000,000 $34,627,688 $33,600,000 $33,075,000 $33,000,000 $32,951,083 $32,929,836 $32,000,000 $30,780,000 $30,145,123 $30,038,400 $30,000,000 $29,955,705 $29,936,173 $29,083,315 $29,000,000 $28,378,291 $28,271,607 $27,774,997 $27,340,903 $27,214,807 $26,145,000 $26,000,000 $25,430,250 $25,059,949 $24,088,326 $23,555,150 $23,172,779 $22,000,000 $21,898,509 $21,422,551 $21,000,000  to numeric"
     ]
    }
   ],
   "source": [
    "nba_g['Value'].aggregate(['mean','max','min'])"
   ]
  },
  {
   "cell_type": "code",
   "execution_count": 44,
   "id": "da9442a1",
   "metadata": {},
   "outputs": [],
   "source": [
    "#import all NHL CSVs\n",
    "\n",
    "nhl_overall = pd.read_csv('../data/NHLOVerall.csv')\n",
    "nhl_f = pd.read_csv('../data/NHL_F.csv')\n",
    "nhl_c = pd.read_csv('../data/NHL_C.csv')\n",
    "nhl_lw = pd.read_csv('../data/NHL_LW.csv')\n",
    "nhl_rw = pd.read_csv('../data/NHL_RW.csv')\n",
    "nhl_d = pd.read_csv('../data/NHL_D.csv')\n",
    "nhl_g = pd.read_csv('../data/NHL_G.csv')"
   ]
  },
  {
   "cell_type": "markdown",
   "id": "4f6fd684",
   "metadata": {},
   "source": [
    "### exploratory analysis of NHL "
   ]
  },
  {
   "cell_type": "markdown",
   "id": "d83adafa",
   "metadata": {},
   "source": [
    "#### note F(forward) contains C, RW, LW"
   ]
  },
  {
   "cell_type": "code",
   "execution_count": 39,
   "id": "427b2f0d",
   "metadata": {},
   "outputs": [
    {
     "data": {
      "text/plain": [
       "Pos\n",
       "C     36\n",
       "D     34\n",
       "LW    16\n",
       "RW     8\n",
       "G      6\n",
       "Name: count, dtype: int64"
      ]
     },
     "execution_count": 39,
     "metadata": {},
     "output_type": "execute_result"
    }
   ],
   "source": [
    "nhl_overall.value_counts('Pos')\n",
    "\n",
    "#forwards, specifically centers, are the position with the most top 100 salaries for NHL"
   ]
  },
  {
   "cell_type": "code",
   "execution_count": 13,
   "id": "34e9ca52",
   "metadata": {},
   "outputs": [],
   "source": [
    "#import all WNBA CSVs\n",
    "\n",
    "wnba_overall = pd.read_csv('../data/WNBAOVerall.csv')\n",
    "wnba_g = pd.read_csv('../data/WNBA_G.csv')\n",
    "wnba_c = pd.read_csv('../data/WNBA_C.csv')\n",
    "wnba_f = pd.read_csv('../data/WNBA_F.csv')"
   ]
  },
  {
   "cell_type": "markdown",
   "id": "8d066481",
   "metadata": {},
   "source": [
    "### exploratory analysis of WNBA"
   ]
  },
  {
   "cell_type": "code",
   "execution_count": 40,
   "id": "ac6cb810",
   "metadata": {},
   "outputs": [
    {
     "data": {
      "text/plain": [
       "Pos\n",
       "G    56\n",
       "F    29\n",
       "C    15\n",
       "Name: count, dtype: int64"
      ]
     },
     "execution_count": 40,
     "metadata": {},
     "output_type": "execute_result"
    }
   ],
   "source": [
    "wnba_overall.value_counts('Pos')\n",
    "\n",
    "#guards are the position with the most top 100 salaries for WNBA"
   ]
  },
  {
   "cell_type": "code",
   "execution_count": 34,
   "id": "53092e5e",
   "metadata": {},
   "outputs": [
    {
     "data": {
      "text/html": [
       "<div>\n",
       "<style scoped>\n",
       "    .dataframe tbody tr th:only-of-type {\n",
       "        vertical-align: middle;\n",
       "    }\n",
       "\n",
       "    .dataframe tbody tr th {\n",
       "        vertical-align: top;\n",
       "    }\n",
       "\n",
       "    .dataframe thead th {\n",
       "        text-align: right;\n",
       "    }\n",
       "</style>\n",
       "<table border=\"1\" class=\"dataframe\">\n",
       "  <thead>\n",
       "    <tr style=\"text-align: right;\">\n",
       "      <th></th>\n",
       "      <th>Rank</th>\n",
       "      <th>Player</th>\n",
       "      <th>Pos</th>\n",
       "      <th>TeamCurrently With</th>\n",
       "      <th>AgeAt Signing</th>\n",
       "      <th>Start</th>\n",
       "      <th>End</th>\n",
       "      <th>Yrs</th>\n",
       "      <th>Value</th>\n",
       "      <th>AAV</th>\n",
       "      <th>Team</th>\n",
       "    </tr>\n",
       "  </thead>\n",
       "  <tbody>\n",
       "    <tr>\n",
       "      <th>0</th>\n",
       "      <td>1</td>\n",
       "      <td>Shohei Ohtani</td>\n",
       "      <td>SP</td>\n",
       "      <td>LAD LAD</td>\n",
       "      <td>29</td>\n",
       "      <td>2024</td>\n",
       "      <td>2033</td>\n",
       "      <td>10</td>\n",
       "      <td>$700,000,000</td>\n",
       "      <td>$70,000,000</td>\n",
       "      <td>LAD</td>\n",
       "    </tr>\n",
       "    <tr>\n",
       "      <th>1</th>\n",
       "      <td>2</td>\n",
       "      <td>Mike Trout</td>\n",
       "      <td>CF</td>\n",
       "      <td>LAA LAA</td>\n",
       "      <td>27</td>\n",
       "      <td>2019</td>\n",
       "      <td>2030</td>\n",
       "      <td>12</td>\n",
       "      <td>$426,500,000</td>\n",
       "      <td>$35,541,667</td>\n",
       "      <td>LAA</td>\n",
       "    </tr>\n",
       "    <tr>\n",
       "      <th>2</th>\n",
       "      <td>3</td>\n",
       "      <td>Mookie Betts</td>\n",
       "      <td>SS</td>\n",
       "      <td>LAD LAD</td>\n",
       "      <td>28</td>\n",
       "      <td>2021</td>\n",
       "      <td>2032</td>\n",
       "      <td>12</td>\n",
       "      <td>$365,000,000</td>\n",
       "      <td>$30,416,667</td>\n",
       "      <td>LAD</td>\n",
       "    </tr>\n",
       "    <tr>\n",
       "      <th>3</th>\n",
       "      <td>4</td>\n",
       "      <td>Aaron Judge</td>\n",
       "      <td>CF</td>\n",
       "      <td>NYY NYY</td>\n",
       "      <td>30</td>\n",
       "      <td>2023</td>\n",
       "      <td>2031</td>\n",
       "      <td>9</td>\n",
       "      <td>$360,000,000</td>\n",
       "      <td>$40,000,000</td>\n",
       "      <td>NYY</td>\n",
       "    </tr>\n",
       "    <tr>\n",
       "      <th>4</th>\n",
       "      <td>5</td>\n",
       "      <td>Manny Machado</td>\n",
       "      <td>3B</td>\n",
       "      <td>SD SD</td>\n",
       "      <td>30</td>\n",
       "      <td>2023</td>\n",
       "      <td>2033</td>\n",
       "      <td>11</td>\n",
       "      <td>$350,000,000</td>\n",
       "      <td>$31,818,182</td>\n",
       "      <td>SD</td>\n",
       "    </tr>\n",
       "  </tbody>\n",
       "</table>\n",
       "</div>"
      ],
      "text/plain": [
       "  Rank         Player Pos TeamCurrently With  AgeAt Signing  Start   End  Yrs  \\\n",
       "0    1  Shohei Ohtani  SP            LAD LAD             29   2024  2033   10   \n",
       "1    2     Mike Trout  CF            LAA LAA             27   2019  2030   12   \n",
       "2    3   Mookie Betts  SS            LAD LAD             28   2021  2032   12   \n",
       "3    4    Aaron Judge  CF            NYY NYY             30   2023  2031    9   \n",
       "4    5  Manny Machado  3B              SD SD             30   2023  2033   11   \n",
       "\n",
       "           Value           AAV Team  \n",
       "0  $700,000,000   $70,000,000   LAD  \n",
       "1  $426,500,000   $35,541,667   LAA  \n",
       "2  $365,000,000   $30,416,667   LAD  \n",
       "3  $360,000,000   $40,000,000   NYY  \n",
       "4  $350,000,000   $31,818,182    SD  "
      ]
     },
     "execution_count": 34,
     "metadata": {},
     "output_type": "execute_result"
    }
   ],
   "source": [
    "#import all MLB CSVs\n",
    "\n",
    "mlb_overall = pd.read_csv('../data/MLBOverall.csv')\n",
    "mlb_inf = pd.read_csv('../data/MLB_INF.csv')\n",
    "mlb_of = pd.read_csv('../data/MLB_OF.csv')\n",
    "mlb_c = pd.read_csv('../data/MLB_C.csv')\n",
    "mlb_1b = pd.read_csv('../data/MLB_1B.csv')\n",
    "mlb_2b = pd.read_csv('../data/MLB_2B.csv')\n",
    "mlb_3b = pd.read_csv('../data/MLB_3B.csv')\n",
    "mlb_ss = pd.read_csv('../data/MLB_SS.csv')\n",
    "mlb_rf = pd.read_csv('../data/MLB_RF.csv')\n",
    "mlb_cf = pd.read_csv('../data/MLB_CF.csv')\n",
    "mlb_lf = pd.read_csv('../data/MLB_LF.csv')\n",
    "mlb_p = pd.read_csv('../data/MLB_P.csv')\n"
   ]
  },
  {
   "cell_type": "code",
   "execution_count": 33,
   "id": "dfd1f808",
   "metadata": {},
   "outputs": [],
   "source": [
    "# import all EPL CSVs\n",
    "\n",
    "epl_overall = pd.read_csv('../data/EPLOverall.csv')\n",
    "epl_f = pd.read_csv('../data/EPL_F.csv')\n",
    "epl_m = pd.read_csv('../data/EPL_M.csv')\n",
    "epl_d = pd.read_csv('../data/EPL_D.csv')\n",
    "epl_gk = pd.read_csv('../data/EPL_GK.csv')"
   ]
  },
  {
   "cell_type": "code",
   "execution_count": null,
   "id": "2382c017",
   "metadata": {},
   "outputs": [],
   "source": [
    "# what city spends the most on atheltes?"
   ]
  }
 ],
 "metadata": {
  "kernelspec": {
   "display_name": "Python 3 (ipykernel)",
   "language": "python",
   "name": "python3"
  },
  "language_info": {
   "codemirror_mode": {
    "name": "ipython",
    "version": 3
   },
   "file_extension": ".py",
   "mimetype": "text/x-python",
   "name": "python",
   "nbconvert_exporter": "python",
   "pygments_lexer": "ipython3",
   "version": "3.11.5"
  }
 },
 "nbformat": 4,
 "nbformat_minor": 5
}
