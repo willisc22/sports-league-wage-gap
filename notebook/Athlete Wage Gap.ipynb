{
 "cells": [
  {
   "cell_type": "code",
   "execution_count": 1,
   "id": "8984cdfe",
   "metadata": {},
   "outputs": [],
   "source": [
    "import pandas as pd\n",
    "import numpy as np\n",
    "import matplotlib.pyplot as plt\n",
    "import seaborn as sns"
   ]
  },
  {
   "cell_type": "code",
   "execution_count": 40,
   "id": "adcde277",
   "metadata": {},
   "outputs": [],
   "source": [
    "#import all NBA CSVs\n",
    "\n",
    "nba_overall = pd.read_csv('../data/NBAOVerall.csv')\n",
    "nba_c = pd.read_csv('../data/NBA_C.csv')\n",
    "nba_sg = pd.read_csv('../data/NBA_SG.csv')\n",
    "nba_pf = pd.read_csv('../data/NBA_PF.csv')\n",
    "nba_g = pd.read_csv('../data/NBA_G.csv')\n",
    "nba_f = pd.read_csv('../data/NBA_F.csv')\n",
    "nba_pg = pd.read_csv('../data/NBA_PG.csv')\n",
    "nba_sf = pd.read_csv('../data/NBA_SF.csv')"
   ]
  },
  {
   "cell_type": "markdown",
   "id": "e3c0e145",
   "metadata": {},
   "source": [
    "### exploratory analysis of NBA"
   ]
  },
  {
   "cell_type": "code",
   "execution_count": 27,
   "id": "cb44119d",
   "metadata": {
    "scrolled": true
   },
   "outputs": [
    {
     "name": "stdout",
     "output_type": "stream",
     "text": [
      "<class 'pandas.core.frame.DataFrame'>\n",
      "RangeIndex: 100 entries, 0 to 99\n",
      "Data columns (total 11 columns):\n",
      " #   Column              Non-Null Count  Dtype \n",
      "---  ------              --------------  ----- \n",
      " 0   Rank                100 non-null    object\n",
      " 1   Player              100 non-null    object\n",
      " 2   Pos                 100 non-null    object\n",
      " 3   TeamCurrently With  100 non-null    object\n",
      " 4   AgeAt Signing       100 non-null    int64 \n",
      " 5   Start               100 non-null    int64 \n",
      " 6   End                 100 non-null    int64 \n",
      " 7   Yrs                 100 non-null    int64 \n",
      " 8   Value               100 non-null    object\n",
      " 9   AAV                 100 non-null    object\n",
      " 10  Team                100 non-null    object\n",
      "dtypes: int64(4), object(7)\n",
      "memory usage: 8.7+ KB\n"
     ]
    }
   ],
   "source": [
    "nba_overall.info()"
   ]
  },
  {
   "cell_type": "code",
   "execution_count": 41,
   "id": "28a3b903",
   "metadata": {},
   "outputs": [
    {
     "ename": "KeyError",
     "evalue": "\"None of [Index(['$276,122,630', '$251,019,650', '$245,340,000', '$245,340,000',\\n       '$228,200,420', '$221,088,000', '$221,088,000', '$215,353,664',\\n       '$215,159,700', '$215,159,700', '$215,159,700', '$213,280,928',\\n       '$205,000,002', '$204,450,000', '$197,230,450', '$197,230,450',\\n       '$197,230,450', '$197,230,450', '$194,219,320', '$189,903,600',\\n       '$189,903,600', '$186,016,000', '$180,000,000', '$179,299,750',\\n       '$179,299,750', '$177,243,360', '$177,130,800', '$176,265,466',\\n       '$176,265,152', '$175,883,400', '$163,000,300', '$163,000,300',\\n       '$163,000,300', '$163,000,300', '$160,000,000', '$158,253,000',\\n       '$158,253,000', '$149,650,000', '$146,396,031', '$136,905,216',\\n       '$135,000,000', '$134,400,000', '$132,929,128', '$131,000,000',\\n       '$128,539,845', '$128,000,000', '$125,000,000', '$120,000,000',\\n       '$120,000,000', '$120,000,000', '$120,000,000', '$117,089,280',\\n       '$114,070,207', '$112,912,800', '$109,000,002', '$107,000,000',\\n       '$104,720,000', '$104,000,000', '$100,000,000', '$100,000,000',\\n       '$100,000,000', '$99,023,288', '$96,258,694', '$94,500,000',\\n       '$94,000,000', '$93,000,000', '$90,900,000', '$90,000,000',\\n       '$90,000,000', '$90,000,000', '$90,000,000', '$86,640,001',\\n       '$86,000,001', '$82,500,000', '$81,900,000', '$80,915,280',\\n       '$80,000,000', '$80,000,000', '$78,000,000', '$76,487,996',\\n       '$75,000,000', '$74,000,000', '$73,000,000', '$72,000,000',\\n       '$70,950,000', '$70,000,000', '$70,000,000', '$70,000,000',\\n       '$69,600,000', '$68,640,000', '$68,000,000', '$67,470,906',\\n       '$65,000,000', '$63,999,999', '$62,297,040', '$61,980,000',\\n       '$60,000,000', '$60,000,000', '$60,000,000'],\\n      dtype='object')] are in the [columns]\"",
     "output_type": "error",
     "traceback": [
      "\u001b[1;31m---------------------------------------------------------------------------\u001b[0m",
      "\u001b[1;31mKeyError\u001b[0m                                  Traceback (most recent call last)",
      "Cell \u001b[1;32mIn[41], line 8\u001b[0m\n\u001b[0;32m      1\u001b[0m \u001b[38;5;66;03m#nba_overall = nba_overall['Value'].astype(str).astype(float).astype(int)\u001b[39;00m\n\u001b[0;32m      2\u001b[0m \n\u001b[0;32m      3\u001b[0m \u001b[38;5;66;03m#nba_overall[\"Value\"] = [float(str(i).replace(\",\", \"\")) for i in nba_overall[\"Value\"]]\u001b[39;00m\n\u001b[0;32m      4\u001b[0m \n\u001b[0;32m      5\u001b[0m \u001b[38;5;66;03m#nba_overall['Salary'] = nba_overall[\"Value\"].replace(\"$\", \"\")\u001b[39;00m\n\u001b[0;32m      6\u001b[0m \u001b[38;5;66;03m#nba_overall\u001b[39;00m\n\u001b[1;32m----> 8\u001b[0m nba_overall[nba_overall\u001b[38;5;241m.\u001b[39mValue[\u001b[38;5;241m1\u001b[39m:]] \u001b[38;5;241m=\u001b[39m nba_overall[nba_overall\u001b[38;5;241m.\u001b[39mValue[\u001b[38;5;241m1\u001b[39m:]]\u001b[38;5;241m.\u001b[39mreplace(\u001b[38;5;124m'\u001b[39m\u001b[38;5;124m[\u001b[39m\u001b[38;5;124m\\\u001b[39m\u001b[38;5;124m$,]\u001b[39m\u001b[38;5;124m'\u001b[39m, \u001b[38;5;124m'\u001b[39m\u001b[38;5;124m'\u001b[39m, regex\u001b[38;5;241m=\u001b[39m\u001b[38;5;28;01mTrue\u001b[39;00m)\u001b[38;5;241m.\u001b[39mastype(\u001b[38;5;28mfloat\u001b[39m)\n",
      "File \u001b[1;32m~\\anaconda3\\Lib\\site-packages\\pandas\\core\\frame.py:3767\u001b[0m, in \u001b[0;36mDataFrame.__getitem__\u001b[1;34m(self, key)\u001b[0m\n\u001b[0;32m   3765\u001b[0m     \u001b[38;5;28;01mif\u001b[39;00m is_iterator(key):\n\u001b[0;32m   3766\u001b[0m         key \u001b[38;5;241m=\u001b[39m \u001b[38;5;28mlist\u001b[39m(key)\n\u001b[1;32m-> 3767\u001b[0m     indexer \u001b[38;5;241m=\u001b[39m \u001b[38;5;28mself\u001b[39m\u001b[38;5;241m.\u001b[39mcolumns\u001b[38;5;241m.\u001b[39m_get_indexer_strict(key, \u001b[38;5;124m\"\u001b[39m\u001b[38;5;124mcolumns\u001b[39m\u001b[38;5;124m\"\u001b[39m)[\u001b[38;5;241m1\u001b[39m]\n\u001b[0;32m   3769\u001b[0m \u001b[38;5;66;03m# take() does not accept boolean indexers\u001b[39;00m\n\u001b[0;32m   3770\u001b[0m \u001b[38;5;28;01mif\u001b[39;00m \u001b[38;5;28mgetattr\u001b[39m(indexer, \u001b[38;5;124m\"\u001b[39m\u001b[38;5;124mdtype\u001b[39m\u001b[38;5;124m\"\u001b[39m, \u001b[38;5;28;01mNone\u001b[39;00m) \u001b[38;5;241m==\u001b[39m \u001b[38;5;28mbool\u001b[39m:\n",
      "File \u001b[1;32m~\\anaconda3\\Lib\\site-packages\\pandas\\core\\indexes\\base.py:5877\u001b[0m, in \u001b[0;36mIndex._get_indexer_strict\u001b[1;34m(self, key, axis_name)\u001b[0m\n\u001b[0;32m   5874\u001b[0m \u001b[38;5;28;01melse\u001b[39;00m:\n\u001b[0;32m   5875\u001b[0m     keyarr, indexer, new_indexer \u001b[38;5;241m=\u001b[39m \u001b[38;5;28mself\u001b[39m\u001b[38;5;241m.\u001b[39m_reindex_non_unique(keyarr)\n\u001b[1;32m-> 5877\u001b[0m \u001b[38;5;28mself\u001b[39m\u001b[38;5;241m.\u001b[39m_raise_if_missing(keyarr, indexer, axis_name)\n\u001b[0;32m   5879\u001b[0m keyarr \u001b[38;5;241m=\u001b[39m \u001b[38;5;28mself\u001b[39m\u001b[38;5;241m.\u001b[39mtake(indexer)\n\u001b[0;32m   5880\u001b[0m \u001b[38;5;28;01mif\u001b[39;00m \u001b[38;5;28misinstance\u001b[39m(key, Index):\n\u001b[0;32m   5881\u001b[0m     \u001b[38;5;66;03m# GH 42790 - Preserve name from an Index\u001b[39;00m\n",
      "File \u001b[1;32m~\\anaconda3\\Lib\\site-packages\\pandas\\core\\indexes\\base.py:5938\u001b[0m, in \u001b[0;36mIndex._raise_if_missing\u001b[1;34m(self, key, indexer, axis_name)\u001b[0m\n\u001b[0;32m   5936\u001b[0m     \u001b[38;5;28;01mif\u001b[39;00m use_interval_msg:\n\u001b[0;32m   5937\u001b[0m         key \u001b[38;5;241m=\u001b[39m \u001b[38;5;28mlist\u001b[39m(key)\n\u001b[1;32m-> 5938\u001b[0m     \u001b[38;5;28;01mraise\u001b[39;00m \u001b[38;5;167;01mKeyError\u001b[39;00m(\u001b[38;5;124mf\u001b[39m\u001b[38;5;124m\"\u001b[39m\u001b[38;5;124mNone of [\u001b[39m\u001b[38;5;132;01m{\u001b[39;00mkey\u001b[38;5;132;01m}\u001b[39;00m\u001b[38;5;124m] are in the [\u001b[39m\u001b[38;5;132;01m{\u001b[39;00maxis_name\u001b[38;5;132;01m}\u001b[39;00m\u001b[38;5;124m]\u001b[39m\u001b[38;5;124m\"\u001b[39m)\n\u001b[0;32m   5940\u001b[0m not_found \u001b[38;5;241m=\u001b[39m \u001b[38;5;28mlist\u001b[39m(ensure_index(key)[missing_mask\u001b[38;5;241m.\u001b[39mnonzero()[\u001b[38;5;241m0\u001b[39m]]\u001b[38;5;241m.\u001b[39munique())\n\u001b[0;32m   5941\u001b[0m \u001b[38;5;28;01mraise\u001b[39;00m \u001b[38;5;167;01mKeyError\u001b[39;00m(\u001b[38;5;124mf\u001b[39m\u001b[38;5;124m\"\u001b[39m\u001b[38;5;132;01m{\u001b[39;00mnot_found\u001b[38;5;132;01m}\u001b[39;00m\u001b[38;5;124m not in index\u001b[39m\u001b[38;5;124m\"\u001b[39m)\n",
      "\u001b[1;31mKeyError\u001b[0m: \"None of [Index(['$276,122,630', '$251,019,650', '$245,340,000', '$245,340,000',\\n       '$228,200,420', '$221,088,000', '$221,088,000', '$215,353,664',\\n       '$215,159,700', '$215,159,700', '$215,159,700', '$213,280,928',\\n       '$205,000,002', '$204,450,000', '$197,230,450', '$197,230,450',\\n       '$197,230,450', '$197,230,450', '$194,219,320', '$189,903,600',\\n       '$189,903,600', '$186,016,000', '$180,000,000', '$179,299,750',\\n       '$179,299,750', '$177,243,360', '$177,130,800', '$176,265,466',\\n       '$176,265,152', '$175,883,400', '$163,000,300', '$163,000,300',\\n       '$163,000,300', '$163,000,300', '$160,000,000', '$158,253,000',\\n       '$158,253,000', '$149,650,000', '$146,396,031', '$136,905,216',\\n       '$135,000,000', '$134,400,000', '$132,929,128', '$131,000,000',\\n       '$128,539,845', '$128,000,000', '$125,000,000', '$120,000,000',\\n       '$120,000,000', '$120,000,000', '$120,000,000', '$117,089,280',\\n       '$114,070,207', '$112,912,800', '$109,000,002', '$107,000,000',\\n       '$104,720,000', '$104,000,000', '$100,000,000', '$100,000,000',\\n       '$100,000,000', '$99,023,288', '$96,258,694', '$94,500,000',\\n       '$94,000,000', '$93,000,000', '$90,900,000', '$90,000,000',\\n       '$90,000,000', '$90,000,000', '$90,000,000', '$86,640,001',\\n       '$86,000,001', '$82,500,000', '$81,900,000', '$80,915,280',\\n       '$80,000,000', '$80,000,000', '$78,000,000', '$76,487,996',\\n       '$75,000,000', '$74,000,000', '$73,000,000', '$72,000,000',\\n       '$70,950,000', '$70,000,000', '$70,000,000', '$70,000,000',\\n       '$69,600,000', '$68,640,000', '$68,000,000', '$67,470,906',\\n       '$65,000,000', '$63,999,999', '$62,297,040', '$61,980,000',\\n       '$60,000,000', '$60,000,000', '$60,000,000'],\\n      dtype='object')] are in the [columns]\""
     ]
    }
   ],
   "source": [
    "#nba_overall = nba_overall['Value'].astype(str).astype(float).astype(int)\n",
    "\n",
    "#nba_overall[\"Value\"] = [float(str(i).replace(\",\", \"\")) for i in nba_overall[\"Value\"]]\n",
    "\n",
    "#nba_overall['Salary'] = nba_overall[\"Value\"].replace(\"$\", \"\")\n",
    "#nba_overall\n",
    "\n",
    "nba_overall[nba_overall.Value[1:]] = nba_overall[nba_overall.Value[1:]].replace('[\\$,]', '', regex=True).astype(float)"
   ]
  },
  {
   "cell_type": "code",
   "execution_count": 4,
   "id": "bf08f139",
   "metadata": {
    "scrolled": true
   },
   "outputs": [
    {
     "data": {
      "text/html": [
       "<div>\n",
       "<style scoped>\n",
       "    .dataframe tbody tr th:only-of-type {\n",
       "        vertical-align: middle;\n",
       "    }\n",
       "\n",
       "    .dataframe tbody tr th {\n",
       "        vertical-align: top;\n",
       "    }\n",
       "\n",
       "    .dataframe thead th {\n",
       "        text-align: right;\n",
       "    }\n",
       "</style>\n",
       "<table border=\"1\" class=\"dataframe\">\n",
       "  <thead>\n",
       "    <tr style=\"text-align: right;\">\n",
       "      <th></th>\n",
       "      <th>Rank</th>\n",
       "      <th>Player</th>\n",
       "      <th>Pos</th>\n",
       "      <th>TeamCurrently With</th>\n",
       "      <th>AgeAt Signing</th>\n",
       "      <th>Start</th>\n",
       "      <th>End</th>\n",
       "      <th>Yrs</th>\n",
       "      <th>Value</th>\n",
       "      <th>AAV</th>\n",
       "      <th>Team</th>\n",
       "    </tr>\n",
       "  </thead>\n",
       "  <tbody>\n",
       "    <tr>\n",
       "      <th>0</th>\n",
       "      <td>1</td>\n",
       "      <td>Jaylen Brown</td>\n",
       "      <td>SF</td>\n",
       "      <td>BOS BOS</td>\n",
       "      <td>26</td>\n",
       "      <td>2024</td>\n",
       "      <td>2028</td>\n",
       "      <td>5</td>\n",
       "      <td>$286,230,000</td>\n",
       "      <td>$57,246,000</td>\n",
       "      <td>BOS</td>\n",
       "    </tr>\n",
       "    <tr>\n",
       "      <th>1</th>\n",
       "      <td>2</td>\n",
       "      <td>Nikola Jokic</td>\n",
       "      <td>C</td>\n",
       "      <td>DEN DEN</td>\n",
       "      <td>27</td>\n",
       "      <td>2023</td>\n",
       "      <td>2027</td>\n",
       "      <td>5</td>\n",
       "      <td>$276,122,630</td>\n",
       "      <td>$55,224,526</td>\n",
       "      <td>DEN</td>\n",
       "    </tr>\n",
       "    <tr>\n",
       "      <th>2</th>\n",
       "      <td>3</td>\n",
       "      <td>Bradley Beal</td>\n",
       "      <td>SG</td>\n",
       "      <td>PHX PHX</td>\n",
       "      <td>29</td>\n",
       "      <td>2022</td>\n",
       "      <td>2026</td>\n",
       "      <td>5</td>\n",
       "      <td>$251,019,650</td>\n",
       "      <td>$50,203,930</td>\n",
       "      <td>PHX</td>\n",
       "    </tr>\n",
       "    <tr>\n",
       "      <th>3</th>\n",
       "      <td>T4</td>\n",
       "      <td>Anthony Edwards</td>\n",
       "      <td>SG</td>\n",
       "      <td>MIN MIN</td>\n",
       "      <td>21</td>\n",
       "      <td>2024</td>\n",
       "      <td>2028</td>\n",
       "      <td>5</td>\n",
       "      <td>$245,340,000</td>\n",
       "      <td>$49,068,000</td>\n",
       "      <td>MIN</td>\n",
       "    </tr>\n",
       "    <tr>\n",
       "      <th>4</th>\n",
       "      <td>T4</td>\n",
       "      <td>Tyrese Haliburton</td>\n",
       "      <td>PG</td>\n",
       "      <td>IND IND</td>\n",
       "      <td>23</td>\n",
       "      <td>2024</td>\n",
       "      <td>2028</td>\n",
       "      <td>5</td>\n",
       "      <td>$245,340,000</td>\n",
       "      <td>$49,068,000</td>\n",
       "      <td>IND</td>\n",
       "    </tr>\n",
       "  </tbody>\n",
       "</table>\n",
       "</div>"
      ],
      "text/plain": [
       "  Rank             Player Pos TeamCurrently With  AgeAt Signing  Start   End  \\\n",
       "0    1       Jaylen Brown  SF            BOS BOS             26   2024  2028   \n",
       "1    2       Nikola Jokic   C            DEN DEN             27   2023  2027   \n",
       "2    3       Bradley Beal  SG            PHX PHX             29   2022  2026   \n",
       "3   T4    Anthony Edwards  SG            MIN MIN             21   2024  2028   \n",
       "4   T4  Tyrese Haliburton  PG            IND IND             23   2024  2028   \n",
       "\n",
       "   Yrs         Value          AAV Team  \n",
       "0    5  $286,230,000  $57,246,000  BOS  \n",
       "1    5  $276,122,630  $55,224,526  DEN  \n",
       "2    5  $251,019,650  $50,203,930  PHX  \n",
       "3    5  $245,340,000  $49,068,000  MIN  \n",
       "4    5  $245,340,000  $49,068,000  IND  "
      ]
     },
     "execution_count": 4,
     "metadata": {},
     "output_type": "execute_result"
    }
   ],
   "source": [
    "nba_overall.head()"
   ]
  },
  {
   "cell_type": "code",
   "execution_count": 5,
   "id": "4477e422",
   "metadata": {
    "scrolled": true
   },
   "outputs": [
    {
     "data": {
      "text/plain": [
       "Pos\n",
       "SG    26\n",
       "PG    24\n",
       "PF    20\n",
       "SF    16\n",
       "C     14\n",
       "Name: count, dtype: int64"
      ]
     },
     "execution_count": 5,
     "metadata": {},
     "output_type": "execute_result"
    }
   ],
   "source": [
    "nba_overall.value_counts('Pos')\n",
    "\n",
    "#shooting guards are the position with the most top 100 salaries for NBA"
   ]
  },
  {
   "cell_type": "code",
   "execution_count": 6,
   "id": "bd9d0373",
   "metadata": {
    "scrolled": true
   },
   "outputs": [
    {
     "data": {
      "text/plain": [
       "<Axes: xlabel='Pos', ylabel='Count'>"
      ]
     },
     "execution_count": 6,
     "metadata": {},
     "output_type": "execute_result"
    },
    {
     "data": {
      "image/png": "[encoded data removed]",
      "text/plain": [
       "<Figure size 640x480 with 1 Axes>"
      ]
     },
     "metadata": {},
     "output_type": "display_data"
    }
   ],
   "source": [
    "#histogram for nba_overall pos\n",
    "sns.histplot(data=nba_overall, x='Pos')"
   ]
  },
  {
   "cell_type": "code",
   "execution_count": 7,
   "id": "ddcb5ece",
   "metadata": {
    "scrolled": true
   },
   "outputs": [
    {
     "data": {
      "text/plain": [
       "Pos\n",
       "SG    56\n",
       "PG    44\n",
       "Name: count, dtype: int64"
      ]
     },
     "execution_count": 7,
     "metadata": {},
     "output_type": "execute_result"
    }
   ],
   "source": [
    "nba_g.value_counts('Pos')\n",
    "\n",
    "#shooting guards also have the highest number of top 100 salaries of all guards"
   ]
  },
  {
   "cell_type": "code",
   "execution_count": 10,
   "id": "1a760048",
   "metadata": {
    "scrolled": true
   },
   "outputs": [
    {
     "data": {
      "text/html": [
       "<div>\n",
       "<style scoped>\n",
       "    .dataframe tbody tr th:only-of-type {\n",
       "        vertical-align: middle;\n",
       "    }\n",
       "\n",
       "    .dataframe tbody tr th {\n",
       "        vertical-align: top;\n",
       "    }\n",
       "\n",
       "    .dataframe thead th {\n",
       "        text-align: right;\n",
       "    }\n",
       "</style>\n",
       "<table border=\"1\" class=\"dataframe\">\n",
       "  <thead>\n",
       "    <tr style=\"text-align: right;\">\n",
       "      <th></th>\n",
       "      <th>Rank</th>\n",
       "      <th>Player</th>\n",
       "      <th>Pos</th>\n",
       "      <th>TeamCurrently With</th>\n",
       "      <th>AgeAt Signing</th>\n",
       "      <th>Start</th>\n",
       "      <th>End</th>\n",
       "      <th>Yrs</th>\n",
       "      <th>Value</th>\n",
       "      <th>AAV</th>\n",
       "      <th>Team</th>\n",
       "    </tr>\n",
       "  </thead>\n",
       "  <tbody>\n",
       "    <tr>\n",
       "      <th>max</th>\n",
       "      <td>T68</td>\n",
       "      <td>Zach LaVine</td>\n",
       "      <td>SG</td>\n",
       "      <td>WAS WAS</td>\n",
       "      <td>36</td>\n",
       "      <td>2025</td>\n",
       "      <td>2028</td>\n",
       "      <td>5</td>\n",
       "      <td>$96,258,694</td>\n",
       "      <td>$9,423,869</td>\n",
       "      <td>WAS</td>\n",
       "    </tr>\n",
       "    <tr>\n",
       "      <th>min</th>\n",
       "      <td>1</td>\n",
       "      <td>Alec Burks</td>\n",
       "      <td>PG</td>\n",
       "      <td>ATL ATL</td>\n",
       "      <td>18</td>\n",
       "      <td>2019</td>\n",
       "      <td>2023</td>\n",
       "      <td>2</td>\n",
       "      <td>$100,000,000</td>\n",
       "      <td>$10,002,122</td>\n",
       "      <td>ATL</td>\n",
       "    </tr>\n",
       "  </tbody>\n",
       "</table>\n",
       "</div>"
      ],
      "text/plain": [
       "    Rank       Player Pos TeamCurrently With  AgeAt Signing  Start   End  Yrs  \\\n",
       "max  T68  Zach LaVine  SG            WAS WAS             36   2025  2028    5   \n",
       "min    1   Alec Burks  PG            ATL ATL             18   2019  2023    2   \n",
       "\n",
       "             Value           AAV Team  \n",
       "max   $96,258,694    $9,423,869   WAS  \n",
       "min  $100,000,000   $10,002,122   ATL  "
      ]
     },
     "execution_count": 10,
     "metadata": {},
     "output_type": "execute_result"
    }
   ],
   "source": [
    "nba_g.aggregate(['max','min'])"
   ]
  },
  {
   "cell_type": "code",
   "execution_count": 17,
   "id": "0fa4dedc",
   "metadata": {
    "scrolled": true
   },
   "outputs": [
    {
     "data": {
      "text/plain": [
       "Team\n",
       "ATL    5\n",
       "GSW    5\n",
       "PHX    5\n",
       "MIL    5\n",
       "MIA    5\n",
       "BOS    5\n",
       "CLE    4\n",
       "LAC    4\n",
       "NYK    4\n",
       "MEM    4\n",
       "MIN    4\n",
       "CHI    4\n",
       "DEN    4\n",
       "OKC    3\n",
       "POR    3\n",
       "LAL    3\n",
       "BKN    3\n",
       "UTA    3\n",
       "DAL    3\n",
       "NOP    3\n",
       "SAC    3\n",
       "PHI    3\n",
       "TOR    2\n",
       "SAS    2\n",
       "IND    2\n",
       "HOU    2\n",
       "DET    2\n",
       "CHA    2\n",
       "WAS    2\n",
       "ORL    1\n",
       "Name: count, dtype: int64"
      ]
     },
     "execution_count": 17,
     "metadata": {},
     "output_type": "execute_result"
    }
   ],
   "source": [
    "nba_overall.value_counts('Team')"
   ]
  },
  {
   "cell_type": "code",
   "execution_count": 20,
   "id": "2dd8e5c8",
   "metadata": {},
   "outputs": [
    {
     "data": {
      "text/plain": [
       "Team\n",
       "ATL    $215,159,700$114,070,207$90,000,000$68,000,000...\n",
       "BKN                   $177,243,360$94,500,000$90,900,000\n",
       "BOS    $286,230,000$163,000,300$134,400,000$70,000,00...\n",
       "CHA                              $204,450,000$80,000,000\n",
       "CHI        $215,159,700$81,900,000$80,000,000$60,000,000\n",
       "CLE      $197,230,450$163,000,300$100,000,000$62,297,040\n",
       "DAL                  $215,159,700$120,000,000$75,000,000\n",
       "DEN      $276,122,630$179,299,750$158,253,000$86,640,001\n",
       "DET                               $73,000,000$60,000,000\n",
       "GSW    $215,353,664$189,903,600$120,000,000$109,000,0...\n",
       "HOU                              $128,539,845$86,000,001\n",
       "IND                             $245,340,000$136,905,216\n",
       "LAC       $176,265,466$149,650,000$90,000,000$68,640,000\n",
       "LAL                  $189,903,600$177,130,800$99,023,288\n",
       "MEM      $197,230,450$197,230,450$104,720,000$76,487,996\n",
       "MIA    $163,000,300$146,396,031$120,000,000$96,258,69...\n",
       "MIL    $228,200,420$176,265,152$175,883,400$112,912,8...\n",
       "MIN     $245,340,000$221,088,000$205,000,002$131,000,000\n",
       "NOP                  $197,230,450$158,253,000$63,999,999\n",
       "NYK       $117,089,280$104,000,000$80,915,280$72,000,000\n",
       "OKC                  $179,299,750$120,000,000$82,500,000\n",
       "ORL                                          $69,600,000\n",
       "PHI                  $213,280,928$180,000,000$94,000,000\n",
       "PHX    $251,019,650$221,088,000$194,219,320$70,000,00...\n",
       "POR                 $160,000,000$132,929,128$100,000,000\n",
       "SAC                  $186,016,000$163,000,300$65,000,000\n",
       "SAS                              $135,000,000$74,000,000\n",
       "TOR                              $107,000,000$78,000,000\n",
       "UTA                   $125,000,000$70,950,000$67,470,906\n",
       "WAS                              $128,000,000$90,000,000\n",
       "Name: Value, dtype: object"
      ]
     },
     "execution_count": 20,
     "metadata": {},
     "output_type": "execute_result"
    }
   ],
   "source": [
    "nba_overall.groupby('Team')['Value'].sum()"
   ]
  },
  {
   "cell_type": "code",
   "execution_count": 11,
   "id": "da9442a1",
   "metadata": {},
   "outputs": [],
   "source": [
    "#import all NHL CSVs\n",
    "\n",
    "nhl_overall = pd.read_csv('../data/NHLOVerall.csv')\n",
    "nhl_f = pd.read_csv('../data/NHL_F.csv')\n",
    "nhl_c = pd.read_csv('../data/NHL_C.csv')\n",
    "nhl_lw = pd.read_csv('../data/NHL_LW.csv')\n",
    "nhl_rw = pd.read_csv('../data/NHL_RW.csv')\n",
    "nhl_d = pd.read_csv('../data/NHL_D.csv')\n",
    "nhl_g = pd.read_csv('../data/NHL_G.csv')"
   ]
  },
  {
   "cell_type": "markdown",
   "id": "4f6fd684",
   "metadata": {},
   "source": [
    "### exploratory analysis of NHL "
   ]
  },
  {
   "cell_type": "markdown",
   "id": "d83adafa",
   "metadata": {},
   "source": [
    "#### note F(forward) contains C, RW, LW"
   ]
  },
  {
   "cell_type": "code",
   "execution_count": 12,
   "id": "427b2f0d",
   "metadata": {},
   "outputs": [
    {
     "data": {
      "text/plain": [
       "Pos\n",
       "C     36\n",
       "D     34\n",
       "LW    16\n",
       "RW     8\n",
       "G      6\n",
       "Name: count, dtype: int64"
      ]
     },
     "execution_count": 12,
     "metadata": {},
     "output_type": "execute_result"
    }
   ],
   "source": [
    "nhl_overall.value_counts('Pos')\n",
    "\n",
    "#forwards, specifically centers, are the position with the most top 100 salaries for NHL"
   ]
  },
  {
   "cell_type": "code",
   "execution_count": 13,
   "id": "34e9ca52",
   "metadata": {},
   "outputs": [],
   "source": [
    "#import all WNBA CSVs\n",
    "\n",
    "wnba_overall = pd.read_csv('../data/WNBAOVerall.csv')\n",
    "wnba_g = pd.read_csv('../data/WNBA_G.csv')\n",
    "wnba_c = pd.read_csv('../data/WNBA_C.csv')\n",
    "wnba_f = pd.read_csv('../data/WNBA_F.csv')"
   ]
  },
  {
   "cell_type": "markdown",
   "id": "8d066481",
   "metadata": {},
   "source": [
    "### exploratory analysis of WNBA"
   ]
  },
  {
   "cell_type": "code",
   "execution_count": 14,
   "id": "ac6cb810",
   "metadata": {},
   "outputs": [
    {
     "data": {
      "text/plain": [
       "Pos\n",
       "G    56\n",
       "F    29\n",
       "C    15\n",
       "Name: count, dtype: int64"
      ]
     },
     "execution_count": 14,
     "metadata": {},
     "output_type": "execute_result"
    }
   ],
   "source": [
    "wnba_overall.value_counts('Pos')\n",
    "\n",
    "#guards are the position with the most top 100 salaries for WNBA"
   ]
  },
  {
   "cell_type": "code",
   "execution_count": 15,
   "id": "53092e5e",
   "metadata": {},
   "outputs": [],
   "source": [
    "#import all MLB CSVs\n",
    "\n",
    "mlb_overall = pd.read_csv('../data/MLBOverall.csv')\n",
    "mlb_inf = pd.read_csv('../data/MLB_INF.csv')\n",
    "mlb_of = pd.read_csv('../data/MLB_OF.csv')\n",
    "mlb_c = pd.read_csv('../data/MLB_C.csv')\n",
    "mlb_1b = pd.read_csv('../data/MLB_1B.csv')\n",
    "mlb_2b = pd.read_csv('../data/MLB_2B.csv')\n",
    "mlb_3b = pd.read_csv('../data/MLB_3B.csv')\n",
    "mlb_ss = pd.read_csv('../data/MLB_SS.csv')\n",
    "mlb_rf = pd.read_csv('../data/MLB_RF.csv')\n",
    "mlb_cf = pd.read_csv('../data/MLB_CF.csv')\n",
    "mlb_lf = pd.read_csv('../data/MLB_LF.csv')\n",
    "mlb_p = pd.read_csv('../data/MLB_P.csv')\n"
   ]
  },
  {
   "cell_type": "code",
   "execution_count": 16,
   "id": "dfd1f808",
   "metadata": {},
   "outputs": [],
   "source": [
    "# import all EPL CSVs\n",
    "\n",
    "epl_overall = pd.read_csv('../data/EPLOverall.csv')\n",
    "epl_f = pd.read_csv('../data/EPL_F.csv')\n",
    "epl_m = pd.read_csv('../data/EPL_M.csv')\n",
    "epl_d = pd.read_csv('../data/EPL_D.csv')\n",
    "epl_gk = pd.read_csv('../data/EPL_GK.csv')"
   ]
  },
  {
   "cell_type": "code",
   "execution_count": null,
   "id": "2382c017",
   "metadata": {},
   "outputs": [],
   "source": [
    "# what city/franchise spends the most on atheltes?"
   ]
  }
 ],
 "metadata": {
  "kernelspec": {
   "display_name": "Python 3 (ipykernel)",
   "language": "python",
   "name": "python3"
  },
  "language_info": {
   "codemirror_mode": {
    "name": "ipython",
    "version": 3
   },
   "file_extension": ".py",
   "mimetype": "text/x-python",
   "name": "python",
   "nbconvert_exporter": "python",
   "pygments_lexer": "ipython3",
   "version": "3.11.5"
  }
 },
 "nbformat": 4,
 "nbformat_minor": 5
}
